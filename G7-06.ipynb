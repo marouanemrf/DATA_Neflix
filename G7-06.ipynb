{
 "cells": [
  {
   "cell_type": "markdown",
   "id": "1fa08669-49e9-47f8-b5c2-e02b1d4f89ff",
   "metadata": {},
   "source": [
    "<table>\n",
    "  <tr>\n",
    "    <th>Préparé par</th>\n",
    "    <th>Encadré par</th>\n",
    "    <th>Équipe</th>\n",
    "    <th>Classe</th>\n",
    "  </tr>\n",
    "  <tr>\n",
    "    <td>MORFI Marouane</td>\n",
    "    <td>Hamza ES-SAMAALI</td>\n",
    "    <td>06</td>\n",
    "    <td>07</td>\n",
    "  </tr>\n",
    "  <tr>\n",
    "    <td>RHAOUTI ALI</td>\n",
    "\n",
    "  </tr>\n",
    "  <tr>\n",
    "    <td>GOAICHI MOUAD</td>\n",
    "\n",
    "  </tr>\n",
    "  <tr>\n",
    "    <td>ESSAKOURI MOHAMED</td>\n",
    "\n",
    "  </tr>\n",
    "  <tr>\n",
    "    <td>LAYADI OLIA</td>\n",
    "\n",
    "  </tr>\n",
    "</table>\n"
   ]
  },
  {
   "cell_type": "markdown",
   "id": "67966534",
   "metadata": {},
   "source": [
    "<h1>Exploration et Analyse des Données de Streaming : Netflix</h1>\n"
   ]
  },
  {
   "cell_type": "markdown",
   "id": "45f03b64-4ca3-4bc2-a889-45d9168af1e0",
   "metadata": {},
   "source": [
    "<h1>Objectif: </h1>\n",
    "<h4>L'objectif de ce projet est d'effectuer une analyse exploratoire des données (EDA) sur l'un des trois ensembles de données fournis (Netflix, Amazon, Disney). En utilisant des outils comme pandas pour la manipulation des données et matplotlib/seaborn pour la visualisation, l'objectif est de répondre aux questions suivantes.</h4>"
   ]
  },
  {
   "cell_type": "markdown",
   "id": "cb413266-dbe7-4c5e-b93b-37ab423cc9eb",
   "metadata": {},
   "source": [
    "Dans la première étape, nous allons importer les bibliothèques qui nous aideront dans ce programme.\n",
    "\n",
    "> Pandas: Vous pouvez l'installer avec la commande pip install pandas. Pandas est une bibliothèque Python qui offre des structures de données et des outils d'analyse de données performants et faciles à utiliser. Elle est souvent utilisée pour la manipulation et l'analyse de données tabulaires.\n",
    "\n",
    "> NumPy: Vous pouvez l'installer avec la commande pip install numpy. NumPy est une bibliothèque fondamentale pour le calcul numérique en Python. Elle fournit des tableaux multidimensionnels, des fonctions avancées pour effectuer des opérations mathématiques sur ces tableaux et des outils pour travailler avec des données structurées.\n",
    "\n",
    "> Seaborn: Vous pouvez l'installer avec la commande pip install seaborn. Seaborn est une bibliothèque de visualisation de données basée sur Matplotlib. Elle offre une interface de haut niveau pour créer des graphiques attrayants et informatifs. Seaborn est souvent utilisé pour explorer et visualiser des données statistiques.\n",
    "\n",
    "> Matplotlib: Vous pouvez l'installer avec la commande pip install matplotlib. Matplotlib est une bibliothèque de visualisation de données en Python. Elle offre une grande flexibilité pour créer une grande variété de graphiques, y compris des graphiques linéaires, des histogrammes, des diagrammes en barres, des nuages de points, etc.\n",
    "\n",
    "En utilisant ces bibliothèques ensemble, vous pouvez manipuler, analyser et visualiser efficacement des ensembles de données dans Python.\n",
    "\n",
    "\n",
    "\n"
   ]
  },
  {
   "cell_type": "code",
   "execution_count": 2,
   "id": "ec1da9f8-093c-466d-9ef2-b276ef44234f",
   "metadata": {},
   "outputs": [],
   "source": [
    "import pandas as pd\n",
    "import numpy as np\n",
    "import matplotlib.pyplot as plt\n",
    "import seaborn as sns"
   ]
  },
  {
   "cell_type": "markdown",
   "id": "d76b3f32-8752-4c41-87f2-d0f1b77c61e2",
   "metadata": {},
   "source": [
    "Maintenant, nous allons lire le contenu d’un fichier par deux méthodes. \n",
    "> La méthode classique est la suivante :"
   ]
  },
  {
   "cell_type": "code",
   "execution_count": 3,
   "id": "fbf9dff4-6fd8-4916-be13-8bffc8ca559c",
   "metadata": {},
   "outputs": [
    {
     "data": {
      "text/plain": [
       "['show_id,type,title,director,cast,country,date_added,release_year,rating,duration,listed_in,description\\n',\n",
       " 's1,Movie,Dick Johnson Is Dead,Kirsten Johnson,,United States,\"September 25, 2021\",2020,PG-13,90 min,Documentaries,\"As her father nears the end of his life, filmmaker Kirsten Johnson stages his death in inventive and comical ways to help them both face the inevitable.\"\\n']"
      ]
     },
     "execution_count": 3,
     "metadata": {},
     "output_type": "execute_result"
    }
   ],
   "source": [
    "# exemple de citer 1 line du colomn et 2 line\n",
    "open('netflix.csv', 'r', encoding='utf-8').readlines()[0:2]"
   ]
  },
  {
   "cell_type": "markdown",
   "id": "679c31fb-6742-4ab4-9f3e-1c0c46fb87d4",
   "metadata": {},
   "source": [
    "Cette méthode n’affiche pas les données d’une manière agréable pour l’utilisateur. \n",
    ">Pour cela, je souhaite utiliser pandas pour l'afficher d'une maniére agréable (comme exel)."
   ]
  },
  {
   "cell_type": "code",
   "execution_count": 4,
   "id": "9d4d5b6d-3a68-48aa-a44c-8bb417062dc5",
   "metadata": {},
   "outputs": [
    {
     "data": {
      "text/html": [
       "<div>\n",
       "<style scoped>\n",
       "    .dataframe tbody tr th:only-of-type {\n",
       "        vertical-align: middle;\n",
       "    }\n",
       "\n",
       "    .dataframe tbody tr th {\n",
       "        vertical-align: top;\n",
       "    }\n",
       "\n",
       "    .dataframe thead th {\n",
       "        text-align: right;\n",
       "    }\n",
       "</style>\n",
       "<table border=\"1\" class=\"dataframe\">\n",
       "  <thead>\n",
       "    <tr style=\"text-align: right;\">\n",
       "      <th></th>\n",
       "      <th>show_id</th>\n",
       "      <th>type</th>\n",
       "      <th>title</th>\n",
       "      <th>director</th>\n",
       "      <th>cast</th>\n",
       "      <th>country</th>\n",
       "      <th>date_added</th>\n",
       "      <th>release_year</th>\n",
       "      <th>rating</th>\n",
       "      <th>duration</th>\n",
       "      <th>listed_in</th>\n",
       "      <th>description</th>\n",
       "    </tr>\n",
       "  </thead>\n",
       "  <tbody>\n",
       "    <tr>\n",
       "      <th>2228</th>\n",
       "      <td>s2229</td>\n",
       "      <td>Movie</td>\n",
       "      <td>Father Soldier Son</td>\n",
       "      <td>Leslye Davis, Catrin Einhorn</td>\n",
       "      <td>NaN</td>\n",
       "      <td>United States</td>\n",
       "      <td>July 17, 2020</td>\n",
       "      <td>2020</td>\n",
       "      <td>R</td>\n",
       "      <td>100 min</td>\n",
       "      <td>Documentaries</td>\n",
       "      <td>After a single father is severely wounded in A...</td>\n",
       "    </tr>\n",
       "    <tr>\n",
       "      <th>3795</th>\n",
       "      <td>s3796</td>\n",
       "      <td>Movie</td>\n",
       "      <td>After Maria</td>\n",
       "      <td>Nadia Hallgren</td>\n",
       "      <td>NaN</td>\n",
       "      <td>United States</td>\n",
       "      <td>May 24, 2019</td>\n",
       "      <td>2019</td>\n",
       "      <td>TV-PG</td>\n",
       "      <td>38 min</td>\n",
       "      <td>Documentaries</td>\n",
       "      <td>Displaced by Hurricane Maria, three Puerto Ric...</td>\n",
       "    </tr>\n",
       "    <tr>\n",
       "      <th>1410</th>\n",
       "      <td>s1411</td>\n",
       "      <td>Movie</td>\n",
       "      <td>Tribhanga - Tedhi Medhi Crazy</td>\n",
       "      <td>Renuka Shahane</td>\n",
       "      <td>Kajol, Tanvi Azmi, Mithila Palkar, Kunaal Roy ...</td>\n",
       "      <td>India</td>\n",
       "      <td>January 15, 2021</td>\n",
       "      <td>2021</td>\n",
       "      <td>TV-MA</td>\n",
       "      <td>96 min</td>\n",
       "      <td>Dramas, International Movies</td>\n",
       "      <td>When her estranged mother falls into a coma, a...</td>\n",
       "    </tr>\n",
       "    <tr>\n",
       "      <th>3676</th>\n",
       "      <td>s3677</td>\n",
       "      <td>Movie</td>\n",
       "      <td>The Milk System</td>\n",
       "      <td>Andreas Pichler</td>\n",
       "      <td>NaN</td>\n",
       "      <td>Germany, Italy</td>\n",
       "      <td>July 12, 2019</td>\n",
       "      <td>2017</td>\n",
       "      <td>TV-14</td>\n",
       "      <td>91 min</td>\n",
       "      <td>Documentaries, International Movies</td>\n",
       "      <td>Farmers, scientists and industry insiders delv...</td>\n",
       "    </tr>\n",
       "    <tr>\n",
       "      <th>6754</th>\n",
       "      <td>s6755</td>\n",
       "      <td>Movie</td>\n",
       "      <td>Final Destination 2</td>\n",
       "      <td>David R. Ellis</td>\n",
       "      <td>Ali Larter, A.J. Cook, Michael Landes, Terrenc...</td>\n",
       "      <td>United States, Canada</td>\n",
       "      <td>January 1, 2020</td>\n",
       "      <td>2003</td>\n",
       "      <td>R</td>\n",
       "      <td>90 min</td>\n",
       "      <td>Horror Movies, Thrillers</td>\n",
       "      <td>On a road trip with friends, Kimberly has a pr...</td>\n",
       "    </tr>\n",
       "    <tr>\n",
       "      <th>5231</th>\n",
       "      <td>s5232</td>\n",
       "      <td>TV Show</td>\n",
       "      <td>ID-0</td>\n",
       "      <td>NaN</td>\n",
       "      <td>Kazuyuki Okitsu, Minami Tsuda, Masaya Matsukaz...</td>\n",
       "      <td>Japan</td>\n",
       "      <td>October 6, 2017</td>\n",
       "      <td>2017</td>\n",
       "      <td>TV-PG</td>\n",
       "      <td>1 Season</td>\n",
       "      <td>Anime Series, International TV Shows</td>\n",
       "      <td>In the midst of a field exercise operating I-M...</td>\n",
       "    </tr>\n",
       "    <tr>\n",
       "      <th>5668</th>\n",
       "      <td>s5669</td>\n",
       "      <td>TV Show</td>\n",
       "      <td>Happy And</td>\n",
       "      <td>NaN</td>\n",
       "      <td>Hee-Jin Lee, Hae-seong Kwon, Paul Stafford, Mi...</td>\n",
       "      <td>South Korea</td>\n",
       "      <td>December 15, 2016</td>\n",
       "      <td>2012</td>\n",
       "      <td>TV-14</td>\n",
       "      <td>1 Season</td>\n",
       "      <td>International TV Shows, Korean TV Shows, TV Dr...</td>\n",
       "      <td>This relatable relationship drama explores the...</td>\n",
       "    </tr>\n",
       "    <tr>\n",
       "      <th>3339</th>\n",
       "      <td>s3340</td>\n",
       "      <td>TV Show</td>\n",
       "      <td>Love, Chunibyo &amp; Other Delusions!</td>\n",
       "      <td>NaN</td>\n",
       "      <td>Jun Fukuyama, Maaya Uchida, Chinatsu Akasaki, ...</td>\n",
       "      <td>Japan</td>\n",
       "      <td>November 1, 2019</td>\n",
       "      <td>2014</td>\n",
       "      <td>TV-PG</td>\n",
       "      <td>2 Seasons</td>\n",
       "      <td>Anime Series, Romantic TV Shows, Teen TV Shows</td>\n",
       "      <td>High schooler Yuta wants to leave his past as ...</td>\n",
       "    </tr>\n",
       "    <tr>\n",
       "      <th>3152</th>\n",
       "      <td>s3153</td>\n",
       "      <td>Movie</td>\n",
       "      <td>My Wife and I</td>\n",
       "      <td>Bunmi Ajakaiye</td>\n",
       "      <td>Ramsey Nouah, Omoni Oboli, Dorcas Shola Fapson...</td>\n",
       "      <td>South Africa</td>\n",
       "      <td>December 13, 2019</td>\n",
       "      <td>2017</td>\n",
       "      <td>TV-MA</td>\n",
       "      <td>100 min</td>\n",
       "      <td>Comedies, International Movies, Romantic Movies</td>\n",
       "      <td>When a couple leaning toward divorce meets wit...</td>\n",
       "    </tr>\n",
       "    <tr>\n",
       "      <th>117</th>\n",
       "      <td>s118</td>\n",
       "      <td>Movie</td>\n",
       "      <td>Final Account</td>\n",
       "      <td>Luke Holland</td>\n",
       "      <td>NaN</td>\n",
       "      <td>United Kingdom, United States</td>\n",
       "      <td>September 2, 2021</td>\n",
       "      <td>2021</td>\n",
       "      <td>PG-13</td>\n",
       "      <td>94 min</td>\n",
       "      <td>Documentaries</td>\n",
       "      <td>This documentary stitches together never-befor...</td>\n",
       "    </tr>\n",
       "  </tbody>\n",
       "</table>\n",
       "</div>"
      ],
      "text/plain": [
       "     show_id     type                              title  \\\n",
       "2228   s2229    Movie                 Father Soldier Son   \n",
       "3795   s3796    Movie                        After Maria   \n",
       "1410   s1411    Movie      Tribhanga - Tedhi Medhi Crazy   \n",
       "3676   s3677    Movie                    The Milk System   \n",
       "6754   s6755    Movie                Final Destination 2   \n",
       "5231   s5232  TV Show                               ID-0   \n",
       "5668   s5669  TV Show                          Happy And   \n",
       "3339   s3340  TV Show  Love, Chunibyo & Other Delusions!   \n",
       "3152   s3153    Movie                      My Wife and I   \n",
       "117     s118    Movie                      Final Account   \n",
       "\n",
       "                          director  \\\n",
       "2228  Leslye Davis, Catrin Einhorn   \n",
       "3795                Nadia Hallgren   \n",
       "1410                Renuka Shahane   \n",
       "3676               Andreas Pichler   \n",
       "6754                David R. Ellis   \n",
       "5231                           NaN   \n",
       "5668                           NaN   \n",
       "3339                           NaN   \n",
       "3152                Bunmi Ajakaiye   \n",
       "117                   Luke Holland   \n",
       "\n",
       "                                                   cast  \\\n",
       "2228                                                NaN   \n",
       "3795                                                NaN   \n",
       "1410  Kajol, Tanvi Azmi, Mithila Palkar, Kunaal Roy ...   \n",
       "3676                                                NaN   \n",
       "6754  Ali Larter, A.J. Cook, Michael Landes, Terrenc...   \n",
       "5231  Kazuyuki Okitsu, Minami Tsuda, Masaya Matsukaz...   \n",
       "5668  Hee-Jin Lee, Hae-seong Kwon, Paul Stafford, Mi...   \n",
       "3339  Jun Fukuyama, Maaya Uchida, Chinatsu Akasaki, ...   \n",
       "3152  Ramsey Nouah, Omoni Oboli, Dorcas Shola Fapson...   \n",
       "117                                                 NaN   \n",
       "\n",
       "                            country         date_added  release_year rating  \\\n",
       "2228                  United States      July 17, 2020          2020      R   \n",
       "3795                  United States       May 24, 2019          2019  TV-PG   \n",
       "1410                          India   January 15, 2021          2021  TV-MA   \n",
       "3676                 Germany, Italy      July 12, 2019          2017  TV-14   \n",
       "6754          United States, Canada    January 1, 2020          2003      R   \n",
       "5231                          Japan    October 6, 2017          2017  TV-PG   \n",
       "5668                    South Korea  December 15, 2016          2012  TV-14   \n",
       "3339                          Japan   November 1, 2019          2014  TV-PG   \n",
       "3152                   South Africa  December 13, 2019          2017  TV-MA   \n",
       "117   United Kingdom, United States  September 2, 2021          2021  PG-13   \n",
       "\n",
       "       duration                                          listed_in  \\\n",
       "2228    100 min                                      Documentaries   \n",
       "3795     38 min                                      Documentaries   \n",
       "1410     96 min                       Dramas, International Movies   \n",
       "3676     91 min                Documentaries, International Movies   \n",
       "6754     90 min                           Horror Movies, Thrillers   \n",
       "5231   1 Season               Anime Series, International TV Shows   \n",
       "5668   1 Season  International TV Shows, Korean TV Shows, TV Dr...   \n",
       "3339  2 Seasons     Anime Series, Romantic TV Shows, Teen TV Shows   \n",
       "3152    100 min    Comedies, International Movies, Romantic Movies   \n",
       "117      94 min                                      Documentaries   \n",
       "\n",
       "                                            description  \n",
       "2228  After a single father is severely wounded in A...  \n",
       "3795  Displaced by Hurricane Maria, three Puerto Ric...  \n",
       "1410  When her estranged mother falls into a coma, a...  \n",
       "3676  Farmers, scientists and industry insiders delv...  \n",
       "6754  On a road trip with friends, Kimberly has a pr...  \n",
       "5231  In the midst of a field exercise operating I-M...  \n",
       "5668  This relatable relationship drama explores the...  \n",
       "3339  High schooler Yuta wants to leave his past as ...  \n",
       "3152  When a couple leaning toward divorce meets wit...  \n",
       "117   This documentary stitches together never-befor...  "
      ]
     },
     "execution_count": 4,
     "metadata": {},
     "output_type": "execute_result"
    }
   ],
   "source": [
    "# lire ce fichier\n",
    "df = pd.read_csv('netflix.csv')\n",
    "# afficher 10 line aléatoire\n",
    "df.sample(10)"
   ]
  },
  {
   "cell_type": "code",
   "execution_count": 5,
   "id": "67eb5f45-98cf-48a5-9342-414d5242d20d",
   "metadata": {},
   "outputs": [
    {
     "data": {
      "text/html": [
       "<div>\n",
       "<style scoped>\n",
       "    .dataframe tbody tr th:only-of-type {\n",
       "        vertical-align: middle;\n",
       "    }\n",
       "\n",
       "    .dataframe tbody tr th {\n",
       "        vertical-align: top;\n",
       "    }\n",
       "\n",
       "    .dataframe thead th {\n",
       "        text-align: right;\n",
       "    }\n",
       "</style>\n",
       "<table border=\"1\" class=\"dataframe\">\n",
       "  <thead>\n",
       "    <tr style=\"text-align: right;\">\n",
       "      <th></th>\n",
       "      <th>show_id</th>\n",
       "      <th>type</th>\n",
       "      <th>title</th>\n",
       "      <th>director</th>\n",
       "      <th>cast</th>\n",
       "      <th>country</th>\n",
       "      <th>date_added</th>\n",
       "      <th>release_year</th>\n",
       "      <th>rating</th>\n",
       "      <th>duration</th>\n",
       "      <th>listed_in</th>\n",
       "      <th>description</th>\n",
       "    </tr>\n",
       "  </thead>\n",
       "  <tbody>\n",
       "    <tr>\n",
       "      <th>0</th>\n",
       "      <td>s1</td>\n",
       "      <td>Movie</td>\n",
       "      <td>Dick Johnson Is Dead</td>\n",
       "      <td>Kirsten Johnson</td>\n",
       "      <td>NaN</td>\n",
       "      <td>United States</td>\n",
       "      <td>September 25, 2021</td>\n",
       "      <td>2020</td>\n",
       "      <td>PG-13</td>\n",
       "      <td>90 min</td>\n",
       "      <td>Documentaries</td>\n",
       "      <td>As her father nears the end of his life, filmm...</td>\n",
       "    </tr>\n",
       "    <tr>\n",
       "      <th>1</th>\n",
       "      <td>s2</td>\n",
       "      <td>TV Show</td>\n",
       "      <td>Blood &amp; Water</td>\n",
       "      <td>NaN</td>\n",
       "      <td>Ama Qamata, Khosi Ngema, Gail Mabalane, Thaban...</td>\n",
       "      <td>South Africa</td>\n",
       "      <td>September 24, 2021</td>\n",
       "      <td>2021</td>\n",
       "      <td>TV-MA</td>\n",
       "      <td>2 Seasons</td>\n",
       "      <td>International TV Shows, TV Dramas, TV Mysteries</td>\n",
       "      <td>After crossing paths at a party, a Cape Town t...</td>\n",
       "    </tr>\n",
       "    <tr>\n",
       "      <th>2</th>\n",
       "      <td>s3</td>\n",
       "      <td>TV Show</td>\n",
       "      <td>Ganglands</td>\n",
       "      <td>Julien Leclercq</td>\n",
       "      <td>Sami Bouajila, Tracy Gotoas, Samuel Jouy, Nabi...</td>\n",
       "      <td>NaN</td>\n",
       "      <td>September 24, 2021</td>\n",
       "      <td>2021</td>\n",
       "      <td>TV-MA</td>\n",
       "      <td>1 Season</td>\n",
       "      <td>Crime TV Shows, International TV Shows, TV Act...</td>\n",
       "      <td>To protect his family from a powerful drug lor...</td>\n",
       "    </tr>\n",
       "    <tr>\n",
       "      <th>3</th>\n",
       "      <td>s4</td>\n",
       "      <td>TV Show</td>\n",
       "      <td>Jailbirds New Orleans</td>\n",
       "      <td>NaN</td>\n",
       "      <td>NaN</td>\n",
       "      <td>NaN</td>\n",
       "      <td>September 24, 2021</td>\n",
       "      <td>2021</td>\n",
       "      <td>TV-MA</td>\n",
       "      <td>1 Season</td>\n",
       "      <td>Docuseries, Reality TV</td>\n",
       "      <td>Feuds, flirtations and toilet talk go down amo...</td>\n",
       "    </tr>\n",
       "    <tr>\n",
       "      <th>4</th>\n",
       "      <td>s5</td>\n",
       "      <td>TV Show</td>\n",
       "      <td>Kota Factory</td>\n",
       "      <td>NaN</td>\n",
       "      <td>Mayur More, Jitendra Kumar, Ranjan Raj, Alam K...</td>\n",
       "      <td>India</td>\n",
       "      <td>September 24, 2021</td>\n",
       "      <td>2021</td>\n",
       "      <td>TV-MA</td>\n",
       "      <td>2 Seasons</td>\n",
       "      <td>International TV Shows, Romantic TV Shows, TV ...</td>\n",
       "      <td>In a city of coaching centers known to train I...</td>\n",
       "    </tr>\n",
       "  </tbody>\n",
       "</table>\n",
       "</div>"
      ],
      "text/plain": [
       "  show_id     type                  title         director  \\\n",
       "0      s1    Movie   Dick Johnson Is Dead  Kirsten Johnson   \n",
       "1      s2  TV Show          Blood & Water              NaN   \n",
       "2      s3  TV Show              Ganglands  Julien Leclercq   \n",
       "3      s4  TV Show  Jailbirds New Orleans              NaN   \n",
       "4      s5  TV Show           Kota Factory              NaN   \n",
       "\n",
       "                                                cast        country  \\\n",
       "0                                                NaN  United States   \n",
       "1  Ama Qamata, Khosi Ngema, Gail Mabalane, Thaban...   South Africa   \n",
       "2  Sami Bouajila, Tracy Gotoas, Samuel Jouy, Nabi...            NaN   \n",
       "3                                                NaN            NaN   \n",
       "4  Mayur More, Jitendra Kumar, Ranjan Raj, Alam K...          India   \n",
       "\n",
       "           date_added  release_year rating   duration  \\\n",
       "0  September 25, 2021          2020  PG-13     90 min   \n",
       "1  September 24, 2021          2021  TV-MA  2 Seasons   \n",
       "2  September 24, 2021          2021  TV-MA   1 Season   \n",
       "3  September 24, 2021          2021  TV-MA   1 Season   \n",
       "4  September 24, 2021          2021  TV-MA  2 Seasons   \n",
       "\n",
       "                                           listed_in  \\\n",
       "0                                      Documentaries   \n",
       "1    International TV Shows, TV Dramas, TV Mysteries   \n",
       "2  Crime TV Shows, International TV Shows, TV Act...   \n",
       "3                             Docuseries, Reality TV   \n",
       "4  International TV Shows, Romantic TV Shows, TV ...   \n",
       "\n",
       "                                         description  \n",
       "0  As her father nears the end of his life, filmm...  \n",
       "1  After crossing paths at a party, a Cape Town t...  \n",
       "2  To protect his family from a powerful drug lor...  \n",
       "3  Feuds, flirtations and toilet talk go down amo...  \n",
       "4  In a city of coaching centers known to train I...  "
      ]
     },
     "execution_count": 5,
     "metadata": {},
     "output_type": "execute_result"
    }
   ],
   "source": [
    "# voir l'entête de table les 5 premieres lignes\n",
    "df.head(5)"
   ]
  },
  {
   "cell_type": "code",
   "execution_count": 6,
   "id": "9bfa7ebc-1951-4bdd-a923-5c590bec3873",
   "metadata": {},
   "outputs": [
    {
     "data": {
      "text/plain": [
       "Index(['show_id', 'type', 'title', 'director', 'cast', 'country', 'date_added',\n",
       "       'release_year', 'rating', 'duration', 'listed_in', 'description'],\n",
       "      dtype='object')"
      ]
     },
     "execution_count": 6,
     "metadata": {},
     "output_type": "execute_result"
    }
   ],
   "source": [
    "# afficher les nom du columns\n",
    "df.columns"
   ]
  },
  {
   "cell_type": "code",
   "execution_count": 7,
   "id": "44f93597-575e-442a-b3a2-fc57dfc64352",
   "metadata": {},
   "outputs": [
    {
     "data": {
      "text/plain": [
       "show_id         object\n",
       "type            object\n",
       "title           object\n",
       "director        object\n",
       "cast            object\n",
       "country         object\n",
       "date_added      object\n",
       "release_year     int64\n",
       "rating          object\n",
       "duration        object\n",
       "listed_in       object\n",
       "description     object\n",
       "dtype: object"
      ]
     },
     "execution_count": 7,
     "metadata": {},
     "output_type": "execute_result"
    }
   ],
   "source": [
    "# voir les types de donnee\n",
    "df.dtypes"
   ]
  },
  {
   "cell_type": "code",
   "execution_count": 8,
   "id": "cc191f51-6b4f-4000-be31-d80ee7680b13",
   "metadata": {},
   "outputs": [
    {
     "data": {
      "text/html": [
       "<div>\n",
       "<style scoped>\n",
       "    .dataframe tbody tr th:only-of-type {\n",
       "        vertical-align: middle;\n",
       "    }\n",
       "\n",
       "    .dataframe tbody tr th {\n",
       "        vertical-align: top;\n",
       "    }\n",
       "\n",
       "    .dataframe thead th {\n",
       "        text-align: right;\n",
       "    }\n",
       "</style>\n",
       "<table border=\"1\" class=\"dataframe\">\n",
       "  <thead>\n",
       "    <tr style=\"text-align: right;\">\n",
       "      <th></th>\n",
       "      <th>release_year</th>\n",
       "    </tr>\n",
       "  </thead>\n",
       "  <tbody>\n",
       "    <tr>\n",
       "      <th>release_year</th>\n",
       "      <td>1.0</td>\n",
       "    </tr>\n",
       "  </tbody>\n",
       "</table>\n",
       "</div>"
      ],
      "text/plain": [
       "              release_year\n",
       "release_year           1.0"
      ]
     },
     "execution_count": 8,
     "metadata": {},
     "output_type": "execute_result"
    }
   ],
   "source": [
    "# Sélectionner uniquement les colonnes numériques\n",
    "df_numeric = df.select_dtypes(include=[np.number])\n",
    "df_numeric.corr()"
   ]
  },
  {
   "cell_type": "markdown",
   "id": "bbe1936a-d1cd-4a79-a17f-e3ae6eeff371",
   "metadata": {},
   "source": [
    "convertir les colonnes rating, duration et date_added en nombres"
   ]
  },
  {
   "cell_type": "code",
   "execution_count": 9,
   "id": "8a2bccd2-5ecd-4197-9e3a-e372e647923e",
   "metadata": {},
   "outputs": [],
   "source": [
    "# Convertir 'date_added' en datetime en inférant le format\n",
    "df['date_added'] = pd.to_datetime(df['date_added'], errors='coerce')\n",
    "df['date_added'] = pd.to_datetime(df['date_added'], format='%B %d, %Y', errors='coerce')\n",
    "\n",
    "# Extraire l'année\n",
    "df['year_added'] = df['date_added'].dt.year\n"
   ]
  },
  {
   "cell_type": "code",
   "execution_count": 10,
   "id": "cfdb319b-df4e-4360-b49e-20beaa8c4a02",
   "metadata": {},
   "outputs": [
    {
     "name": "stdout",
     "output_type": "stream",
     "text": [
      "['PG-13' 'TV-MA' 'PG' 'TV-14' 'TV-PG' 'TV-Y' 'TV-Y7' 'R' 'TV-G' 'G'\n",
      " 'NC-17' '74 min' '84 min' '66 min' 'NR' nan 'TV-Y7-FV' 'UR']\n",
      "rating\n",
      "TV-MA       3207\n",
      "TV-14       2160\n",
      "TV-PG        863\n",
      "R            799\n",
      "PG-13        490\n",
      "TV-Y7        334\n",
      "TV-Y         307\n",
      "PG           287\n",
      "TV-G         220\n",
      "NR            80\n",
      "G             41\n",
      "TV-Y7-FV       6\n",
      "NC-17          3\n",
      "UR             3\n",
      "74 min         1\n",
      "84 min         1\n",
      "66 min         1\n",
      "Name: count, dtype: int64\n"
     ]
    }
   ],
   "source": [
    "# Charger les données\n",
    "data = pd.read_csv(\"netflix.csv\")\n",
    "\n",
    "# Afficher les différents ratings\n",
    "unique_ratings = data['rating'].unique()\n",
    "print(unique_ratings)\n",
    "\n",
    "# Compter les occurrences de chaque rating\n",
    "rating_counts = data['rating'].value_counts()\n",
    "print(rating_counts)"
   ]
  },
  {
   "cell_type": "code",
   "execution_count": 12,
   "id": "c68b194f-7f50-44d5-9c54-aa1b97c20a06",
   "metadata": {},
   "outputs": [],
   "source": [
    "rating_to_num = {\n",
    "    'TV-MA': 18,\n",
    "    'TV-14': 14,\n",
    "    'TV-PG': 12,\n",
    "    'R': 17,\n",
    "    'PG-13': 13,\n",
    "    'TV-Y7': 7,\n",
    "    'TV-Y': 6,\n",
    "    'PG': 8,\n",
    "    'TV-G': 5,\n",
    "    'NR': 0,  \n",
    "    'G': 1,\n",
    "    'TV-Y7-FV': 7,  \n",
    "    'NC-17': 18,\n",
    "    'UR': 0  \n",
    "}\n",
    "\n",
    "# Appliquer le mapping au DataFrame\n",
    "df['rating_num'] = df['rating'].map(rating_to_num)\n"
   ]
  },
  {
   "cell_type": "code",
   "execution_count": 13,
   "id": "b9c6ad45-e2cf-4fbd-89ba-724e194992d9",
   "metadata": {},
   "outputs": [],
   "source": [
    "def convert_duration(duration):\n",
    "    if pd.isna(duration):\n",
    "        return None  \n",
    "    if 'Season' in duration:\n",
    "        return int(duration.split(' ')[0])  \n",
    "    elif 'min' in duration:\n",
    "        return int(duration.split(' ')[0])  \n",
    "    else:\n",
    "        return None\n",
    "\n",
    "df['duration_num'] = df['duration'].apply(convert_duration)\n"
   ]
  },
  {
   "cell_type": "code",
   "execution_count": 14,
   "id": "80bd786d-7175-46f9-945b-957ae948b625",
   "metadata": {},
   "outputs": [
    {
     "data": {
      "text/plain": [
       "show_id                 object\n",
       "type                    object\n",
       "title                   object\n",
       "director                object\n",
       "cast                    object\n",
       "country                 object\n",
       "date_added      datetime64[ns]\n",
       "release_year             int64\n",
       "rating                  object\n",
       "duration                object\n",
       "listed_in               object\n",
       "description             object\n",
       "year_added             float64\n",
       "rating_num             float64\n",
       "duration_num           float64\n",
       "dtype: object"
      ]
     },
     "execution_count": 14,
     "metadata": {},
     "output_type": "execute_result"
    }
   ],
   "source": [
    "# voir les nouveux types de donnee\n",
    "df.dtypes"
   ]
  },
  {
   "cell_type": "code",
   "execution_count": 15,
   "id": "9ae910e2-d187-4e31-889b-ad42a66786a1",
   "metadata": {},
   "outputs": [
    {
     "data": {
      "text/html": [
       "<div>\n",
       "<style scoped>\n",
       "    .dataframe tbody tr th:only-of-type {\n",
       "        vertical-align: middle;\n",
       "    }\n",
       "\n",
       "    .dataframe tbody tr th {\n",
       "        vertical-align: top;\n",
       "    }\n",
       "\n",
       "    .dataframe thead th {\n",
       "        text-align: right;\n",
       "    }\n",
       "</style>\n",
       "<table border=\"1\" class=\"dataframe\">\n",
       "  <thead>\n",
       "    <tr style=\"text-align: right;\">\n",
       "      <th></th>\n",
       "      <th>release_year</th>\n",
       "      <th>year_added</th>\n",
       "      <th>rating_num</th>\n",
       "      <th>duration_num</th>\n",
       "    </tr>\n",
       "  </thead>\n",
       "  <tbody>\n",
       "    <tr>\n",
       "      <th>release_year</th>\n",
       "      <td>1.000000</td>\n",
       "      <td>0.110473</td>\n",
       "      <td>0.112050</td>\n",
       "      <td>-0.249182</td>\n",
       "    </tr>\n",
       "    <tr>\n",
       "      <th>year_added</th>\n",
       "      <td>0.110473</td>\n",
       "      <td>1.000000</td>\n",
       "      <td>0.024653</td>\n",
       "      <td>0.016436</td>\n",
       "    </tr>\n",
       "    <tr>\n",
       "      <th>rating_num</th>\n",
       "      <td>0.112050</td>\n",
       "      <td>0.024653</td>\n",
       "      <td>1.000000</td>\n",
       "      <td>0.091215</td>\n",
       "    </tr>\n",
       "    <tr>\n",
       "      <th>duration_num</th>\n",
       "      <td>-0.249182</td>\n",
       "      <td>0.016436</td>\n",
       "      <td>0.091215</td>\n",
       "      <td>1.000000</td>\n",
       "    </tr>\n",
       "  </tbody>\n",
       "</table>\n",
       "</div>"
      ],
      "text/plain": [
       "              release_year  year_added  rating_num  duration_num\n",
       "release_year      1.000000    0.110473    0.112050     -0.249182\n",
       "year_added        0.110473    1.000000    0.024653      0.016436\n",
       "rating_num        0.112050    0.024653    1.000000      0.091215\n",
       "duration_num     -0.249182    0.016436    0.091215      1.000000"
      ]
     },
     "execution_count": 15,
     "metadata": {},
     "output_type": "execute_result"
    }
   ],
   "source": [
    "# Sélectionner uniquement les nouveaux colonnes numériques\n",
    "df_numeric = df.select_dtypes(include=[np.number])\n",
    "df_numeric.corr()"
   ]
  },
  {
   "cell_type": "code",
   "execution_count": 16,
   "id": "86c21e2b-f410-43d8-a8be-b4aec843630e",
   "metadata": {},
   "outputs": [
    {
     "data": {
      "text/plain": [
       "<Axes: >"
      ]
     },
     "execution_count": 16,
     "metadata": {},
     "output_type": "execute_result"
    },
    {
     "data": {
      "image/png": "[encoded data removed]",
      "text/plain": [
       "<Figure size 640x480 with 2 Axes>"
      ]
     },
     "metadata": {},
     "output_type": "display_data"
    }
   ],
   "source": [
    "# voir un diagramme de corrélation\n",
    "sns.heatmap(df_numeric.corr())"
   ]
  },
  {
   "cell_type": "markdown",
   "id": "e821e4d8-50a9-435e-9072-5d8b4832d64c",
   "metadata": {},
   "source": [
    "<h3>1=></h3> <h4>Top 5 des meilleures catégories.</h4>\n",
    "<h5>la meilleures catégorie a la plus grand rating: </h5>"
   ]
  },
  {
   "cell_type": "code",
   "execution_count": 17,
   "id": "32cbd4da-4d5e-42c3-89d7-f622e36e8824",
   "metadata": {},
   "outputs": [
    {
     "name": "stdout",
     "output_type": "stream",
     "text": [
      "listed_in\n",
      "Action & Adventure                                              16.367188\n",
      "Action & Adventure, Anime Features                              18.000000\n",
      "Action & Adventure, Anime Features, Children & Family Movies    11.500000\n",
      "Action & Adventure, Anime Features, Classic Movies              13.500000\n",
      "Action & Adventure, Anime Features, Horror Movies               18.000000\n",
      "                                                                  ...    \n",
      "TV Horror, TV Mysteries, Teen TV Shows                          18.000000\n",
      "TV Horror, Teen TV Shows                                        14.000000\n",
      "TV Sci-Fi & Fantasy, TV Thrillers                               14.000000\n",
      "TV Shows                                                        14.312500\n",
      "Thrillers                                                       15.692308\n",
      "Name: rating_num, Length: 514, dtype: float64\n"
     ]
    }
   ],
   "source": [
    "# Grouper par 'listed_in' et calculer la note moyenne des valeurs numériques\n",
    "grouped = df.groupby(['listed_in'])['rating_num'].mean()\n",
    "print(grouped)\n",
    "\n",
    "# Trier par note et obtenir les 5 meilleures catégories\n",
    "top5_cat = grouped.sort_values(ascending=False).head(5)\n"
   ]
  },
  {
   "cell_type": "code",
   "execution_count": 18,
   "id": "e613953d-ddcf-4fc0-ab52-ff3c2b79ea7a",
   "metadata": {},
   "outputs": [
    {
     "data": {
      "text/html": [
       "<div>\n",
       "<style scoped>\n",
       "    .dataframe tbody tr th:only-of-type {\n",
       "        vertical-align: middle;\n",
       "    }\n",
       "\n",
       "    .dataframe tbody tr th {\n",
       "        vertical-align: top;\n",
       "    }\n",
       "\n",
       "    .dataframe thead th {\n",
       "        text-align: right;\n",
       "    }\n",
       "</style>\n",
       "<table border=\"1\" class=\"dataframe\">\n",
       "  <thead>\n",
       "    <tr style=\"text-align: right;\">\n",
       "      <th></th>\n",
       "      <th>listed_in</th>\n",
       "      <th>rating_num</th>\n",
       "    </tr>\n",
       "  </thead>\n",
       "  <tbody>\n",
       "    <tr>\n",
       "      <th>0</th>\n",
       "      <td>Crime TV Shows, Docuseries, Science &amp; Nature TV</td>\n",
       "      <td>18.0</td>\n",
       "    </tr>\n",
       "    <tr>\n",
       "      <th>1</th>\n",
       "      <td>Reality TV, Science &amp; Nature TV, TV Action &amp; A...</td>\n",
       "      <td>18.0</td>\n",
       "    </tr>\n",
       "    <tr>\n",
       "      <th>2</th>\n",
       "      <td>International Movies, Sports Movies</td>\n",
       "      <td>18.0</td>\n",
       "    </tr>\n",
       "    <tr>\n",
       "      <th>3</th>\n",
       "      <td>Anime Series, Crime TV Shows, TV Horror</td>\n",
       "      <td>18.0</td>\n",
       "    </tr>\n",
       "    <tr>\n",
       "      <th>4</th>\n",
       "      <td>Crime TV Shows, TV Horror, TV Mysteries</td>\n",
       "      <td>18.0</td>\n",
       "    </tr>\n",
       "  </tbody>\n",
       "</table>\n",
       "</div>"
      ],
      "text/plain": [
       "                                           listed_in  rating_num\n",
       "0    Crime TV Shows, Docuseries, Science & Nature TV        18.0\n",
       "1  Reality TV, Science & Nature TV, TV Action & A...        18.0\n",
       "2                International Movies, Sports Movies        18.0\n",
       "3            Anime Series, Crime TV Shows, TV Horror        18.0\n",
       "4            Crime TV Shows, TV Horror, TV Mysteries        18.0"
      ]
     },
     "execution_count": 18,
     "metadata": {},
     "output_type": "execute_result"
    }
   ],
   "source": [
    "# sauvgarder la data frame\n",
    "top5_cat.to_csv('top5_categories.csv')\n",
    "#  lire la data frame\n",
    "pd.read_csv('top5_categories.csv')"
   ]
  },
  {
   "cell_type": "markdown",
   "id": "3287014e-9e88-427b-ac38-560f303b4a34",
   "metadata": {},
   "source": [
    "<h3>2=></h3> <h4>Top 5 des réalisateurs.</h4>\n",
    "<h5>la meilleures réalisateur ou 'director' a la plus grand rating et les top catégorie: </h5>"
   ]
  },
  {
   "cell_type": "code",
   "execution_count": 19,
   "id": "283731a2-d1c0-46e0-98c9-e55810c8f7ac",
   "metadata": {},
   "outputs": [
    {
     "name": "stdout",
     "output_type": "stream",
     "text": [
      "director             listed_in                                                 \n",
      "A. L. Vijay          Comedies, Dramas, International Movies                        14.0\n",
      "                     Comedies, International Movies, Sci-Fi & Fantasy              14.0\n",
      "A. Raajdheep         Dramas, International Movies                                  14.0\n",
      "A. Salaam            Action & Adventure, International Movies, Music & Musicals    14.0\n",
      "A.R. Murugadoss      Action & Adventure, Dramas, International Movies              18.0\n",
      "                                                                                   ... \n",
      "Óskar Thór Axelsson  Horror Movies, International Movies                           18.0\n",
      "Ömer Faruk Sorak     Action & Adventure, Comedies, International Movies            18.0\n",
      "                     Dramas, International Movies, Romantic Movies                 18.0\n",
      "Şenol Sönmez         Comedies, Dramas, International Movies                        14.0\n",
      "                     Comedies, International Movies, Romantic Movies               14.0\n",
      "Name: rating_num, Length: 5481, dtype: float64\n"
     ]
    }
   ],
   "source": [
    "# Appliquer le mapping au DataFrame pour convertir les ratings en nombres\n",
    "df['rating_num'] = df['rating'].map(rating_to_num)\n",
    "\n",
    "# Grouper par 'director' et 'listed_in', et calculer la note moyenne des valeurs numériques\n",
    "grouped = df.groupby(['director', 'listed_in'])['rating_num'].mean()\n",
    "print(grouped)\n",
    "\n",
    "# Trier par note moyenne et obtenir le top 5\n",
    "top5_cat_dir = grouped.sort_values(ascending=False).head(5)"
   ]
  },
  {
   "cell_type": "code",
   "execution_count": 20,
   "id": "0887332a-fb5d-45e0-86e7-d26071d8edf3",
   "metadata": {},
   "outputs": [
    {
     "data": {
      "text/html": [
       "<div>\n",
       "<style scoped>\n",
       "    .dataframe tbody tr th:only-of-type {\n",
       "        vertical-align: middle;\n",
       "    }\n",
       "\n",
       "    .dataframe tbody tr th {\n",
       "        vertical-align: top;\n",
       "    }\n",
       "\n",
       "    .dataframe thead th {\n",
       "        text-align: right;\n",
       "    }\n",
       "</style>\n",
       "<table border=\"1\" class=\"dataframe\">\n",
       "  <thead>\n",
       "    <tr style=\"text-align: right;\">\n",
       "      <th></th>\n",
       "      <th>director</th>\n",
       "      <th>listed_in</th>\n",
       "      <th>rating_num</th>\n",
       "    </tr>\n",
       "  </thead>\n",
       "  <tbody>\n",
       "    <tr>\n",
       "      <th>0</th>\n",
       "      <td>Krysia Plonka</td>\n",
       "      <td>Stand-Up Comedy</td>\n",
       "      <td>18.0</td>\n",
       "    </tr>\n",
       "    <tr>\n",
       "      <th>1</th>\n",
       "      <td>Renato De Maria</td>\n",
       "      <td>Dramas, International Movies</td>\n",
       "      <td>18.0</td>\n",
       "    </tr>\n",
       "    <tr>\n",
       "      <th>2</th>\n",
       "      <td>Ravikanth Perepu</td>\n",
       "      <td>International Movies, Romantic Movies</td>\n",
       "      <td>18.0</td>\n",
       "    </tr>\n",
       "    <tr>\n",
       "      <th>3</th>\n",
       "      <td>Honey Trehan</td>\n",
       "      <td>Dramas, International Movies, Thrillers</td>\n",
       "      <td>18.0</td>\n",
       "    </tr>\n",
       "    <tr>\n",
       "      <th>4</th>\n",
       "      <td>Hong Khaou</td>\n",
       "      <td>Dramas, Independent Movies, LGBTQ Movies</td>\n",
       "      <td>18.0</td>\n",
       "    </tr>\n",
       "  </tbody>\n",
       "</table>\n",
       "</div>"
      ],
      "text/plain": [
       "           director                                 listed_in  rating_num\n",
       "0     Krysia Plonka                           Stand-Up Comedy        18.0\n",
       "1   Renato De Maria              Dramas, International Movies        18.0\n",
       "2  Ravikanth Perepu     International Movies, Romantic Movies        18.0\n",
       "3      Honey Trehan   Dramas, International Movies, Thrillers        18.0\n",
       "4        Hong Khaou  Dramas, Independent Movies, LGBTQ Movies        18.0"
      ]
     },
     "execution_count": 20,
     "metadata": {},
     "output_type": "execute_result"
    }
   ],
   "source": [
    "# sauvgarder la data frame\n",
    "top5_cat_dir.to_csv('top5_categories_director.csv')\n",
    "#  lire la data frame\n",
    "pd.read_csv('top5_categories_director.csv')"
   ]
  },
  {
   "cell_type": "markdown",
   "id": "0f6d2071-e375-4e1c-969b-d9671f24f3ab",
   "metadata": {},
   "source": [
    "<h3>3=></h3> <h4>Les dix meilleurs acteurs</h4>\n",
    "<h5>Les meilleurs réalisateurs ou 'directors' avec la plus grande note, ainsi que les principales catégories et les meilleurs acteurs :</h5>\n"
   ]
  },
  {
   "cell_type": "code",
   "execution_count": 21,
   "id": "f6ce20df-601a-4bda-942b-613a7c901177",
   "metadata": {},
   "outputs": [
    {
     "name": "stdout",
     "output_type": "stream",
     "text": [
      "cast                                                                                                                                                                                  listed_in                                         director          \n",
      "50 Cent, Ryan Phillippe, Bruce Willis, Rory Markham, Jenna Dewan, Brett Granstaff, Randy Couture, Susie Abromeit, Ron Turner, James Remar                                             Action & Adventure                                Mike Gunther          17.0\n",
      "A.J. LoCascio, Sendhil Ramamurthy, Fred Tatasciore, Jake Johnson, Lauren Lapkus, Zachary Levi, BD Wong, David Gunning                                                                 Children & Family Movies, Comedies                Michael D. Black       7.0\n",
      "Aadhi, Tapsee Pannu, Ritika Singh, Vennela Kishore, Sapthagiri                                                                                                                        Dramas, International Movies, Romantic Movies     Hari Nath             14.0\n",
      "Aadil Khan, Sadia Khateeb, Zain Khan Durrani, Priyanshu Chatterjee, Bhavna Chauhan, Ashwin Dhar, Farid Azad Khan, Saghar Sehrai                                                       Dramas, International Movies, Romantic Movies     Vidhu Vinod Chopra    14.0\n",
      "Aamina Sheikh, Sanam Saeed, Adnan Malik, Mohammad Ahmad, Beo Rana Zafar, Faris Khalid, Hira Hussain, Mikaal Zulfiqar                                                                  Comedies, Dramas, International Movies            Asim Abbasi           18.0\n",
      "                                                                                                                                                                                                                                                              ... \n",
      "Çetin Tekindor, Fikret Kuşkan, Hümeyra, Ege Tanman, Şerif Sezer, Yetkin Dikinciler, Binnur Kaya, Mahmut Gökgöz, Nergis Çorakçi, Bilge Sen                                             Dramas, International Movies                      Çagan Irmak           14.0\n",
      "Úrsula Corberó, Álvaro Cervantes, Najwa Nimri, Patricia López Arnaiz, Daniel Grao, Joaquín Furriel, Maria Molins, Emilio Gutiérrez Caba, Luisa Gavasa, José María Pou, Ángela Molina  Dramas, Independent Movies, International Movies  Julio Medem           18.0\n",
      "İbrahim Büyükak, Zeynep Koçak, Gupse Özay, Cengiz Bozkurt                                                                                                                             Comedies, International Movies                    Bedran Güzel          18.0\n",
      "Şahin Irmak, İrem Sak, Gonca Vuslateri, Emre Karayel, Duygu Yetiş, Onur Buldu, Salih Kalyon, Bilge Şen, Nilgün Belgün, Hakan Akın                                                     Comedies, International Movies, Romantic Movies   Hakan Algül           18.0\n",
      "Ṣọpẹ́ Dìrísù, Wunmi Mosaku, Matt Smith, Malaika Wakoli-Abigaba                                                                                                                        Horror Movies, Independent Movies                 Remi Weekes           14.0\n",
      "Name: rating_num, Length: 5615, dtype: float64\n"
     ]
    }
   ],
   "source": [
    "# Appliquer le mapping pour convertir les classifications en nombres\n",
    "df['rating_num'] = df['rating'].map(rating_to_num)\n",
    "\n",
    "# Grouper par 'cast', 'listed_in' et 'director', et calculer la note moyenne\n",
    "grouped = df.groupby(['cast', 'listed_in', 'director'])['rating_num'].mean()\n",
    "\n",
    "print(grouped)\n",
    "\n",
    "# Trier par note moyenne et obtenir le top 10\n",
    "top10_cast = grouped.sort_values(ascending=False).head(10)"
   ]
  },
  {
   "cell_type": "code",
   "execution_count": 22,
   "id": "fc1e837d-6aff-4fcb-8e0b-7844c248d8a0",
   "metadata": {},
   "outputs": [
    {
     "data": {
      "text/html": [
       "<div>\n",
       "<style scoped>\n",
       "    .dataframe tbody tr th:only-of-type {\n",
       "        vertical-align: middle;\n",
       "    }\n",
       "\n",
       "    .dataframe tbody tr th {\n",
       "        vertical-align: top;\n",
       "    }\n",
       "\n",
       "    .dataframe thead th {\n",
       "        text-align: right;\n",
       "    }\n",
       "</style>\n",
       "<table border=\"1\" class=\"dataframe\">\n",
       "  <thead>\n",
       "    <tr style=\"text-align: right;\">\n",
       "      <th></th>\n",
       "      <th>cast</th>\n",
       "      <th>listed_in</th>\n",
       "      <th>director</th>\n",
       "      <th>rating_num</th>\n",
       "    </tr>\n",
       "  </thead>\n",
       "  <tbody>\n",
       "    <tr>\n",
       "      <th>0</th>\n",
       "      <td>Paul Rudd, Craig Roberts, Selena Gomez, Jennif...</td>\n",
       "      <td>Comedies, Dramas, Independent Movies</td>\n",
       "      <td>Rob Burnett</td>\n",
       "      <td>18.0</td>\n",
       "    </tr>\n",
       "    <tr>\n",
       "      <th>1</th>\n",
       "      <td>Scott Adkins, Louis Mandylor, Vladimir Kulich,...</td>\n",
       "      <td>Action &amp; Adventure</td>\n",
       "      <td>Jesse V. Johnson</td>\n",
       "      <td>18.0</td>\n",
       "    </tr>\n",
       "    <tr>\n",
       "      <th>2</th>\n",
       "      <td>Sebastian Maniscalco</td>\n",
       "      <td>Stand-Up Comedy</td>\n",
       "      <td>Manny Rodriguez</td>\n",
       "      <td>18.0</td>\n",
       "    </tr>\n",
       "    <tr>\n",
       "      <th>3</th>\n",
       "      <td>Demetri Martin</td>\n",
       "      <td>Stand-Up Comedy</td>\n",
       "      <td>Jay Karas, Demetri Martin</td>\n",
       "      <td>18.0</td>\n",
       "    </tr>\n",
       "    <tr>\n",
       "      <th>4</th>\n",
       "      <td>Demetri Martin</td>\n",
       "      <td>Stand-Up Comedy</td>\n",
       "      <td>Jay Karas</td>\n",
       "      <td>18.0</td>\n",
       "    </tr>\n",
       "    <tr>\n",
       "      <th>5</th>\n",
       "      <td>Sebastian Maniscalco</td>\n",
       "      <td>Stand-Up Comedy</td>\n",
       "      <td>Rik Reinholdtsen</td>\n",
       "      <td>18.0</td>\n",
       "    </tr>\n",
       "    <tr>\n",
       "      <th>6</th>\n",
       "      <td>Demet Akbağ, Zerrin Sümer, Sinan Bengier, Sali...</td>\n",
       "      <td>Dramas, International Movies</td>\n",
       "      <td>Yılmaz Erdoğan</td>\n",
       "      <td>18.0</td>\n",
       "    </tr>\n",
       "    <tr>\n",
       "      <th>7</th>\n",
       "      <td>Sebastián Marcelo Wainraich</td>\n",
       "      <td>Stand-Up Comedy</td>\n",
       "      <td>Raúl Campos, Jan Suter</td>\n",
       "      <td>18.0</td>\n",
       "    </tr>\n",
       "    <tr>\n",
       "      <th>8</th>\n",
       "      <td>Demet Akbağ, Sermiyan Midyat, Mahir İpek, Gülh...</td>\n",
       "      <td>Comedies, International Movies</td>\n",
       "      <td>Sermiyan Midyat</td>\n",
       "      <td>18.0</td>\n",
       "    </tr>\n",
       "    <tr>\n",
       "      <th>9</th>\n",
       "      <td>Sebastián Osorio, Fabiana Medina, Laura Osma, ...</td>\n",
       "      <td>Crime TV Shows, International TV Shows, Spanis...</td>\n",
       "      <td>Felipe Cano</td>\n",
       "      <td>18.0</td>\n",
       "    </tr>\n",
       "  </tbody>\n",
       "</table>\n",
       "</div>"
      ],
      "text/plain": [
       "                                                cast  \\\n",
       "0  Paul Rudd, Craig Roberts, Selena Gomez, Jennif...   \n",
       "1  Scott Adkins, Louis Mandylor, Vladimir Kulich,...   \n",
       "2                               Sebastian Maniscalco   \n",
       "3                                     Demetri Martin   \n",
       "4                                     Demetri Martin   \n",
       "5                               Sebastian Maniscalco   \n",
       "6  Demet Akbağ, Zerrin Sümer, Sinan Bengier, Sali...   \n",
       "7                        Sebastián Marcelo Wainraich   \n",
       "8  Demet Akbağ, Sermiyan Midyat, Mahir İpek, Gülh...   \n",
       "9  Sebastián Osorio, Fabiana Medina, Laura Osma, ...   \n",
       "\n",
       "                                           listed_in  \\\n",
       "0               Comedies, Dramas, Independent Movies   \n",
       "1                                 Action & Adventure   \n",
       "2                                    Stand-Up Comedy   \n",
       "3                                    Stand-Up Comedy   \n",
       "4                                    Stand-Up Comedy   \n",
       "5                                    Stand-Up Comedy   \n",
       "6                       Dramas, International Movies   \n",
       "7                                    Stand-Up Comedy   \n",
       "8                     Comedies, International Movies   \n",
       "9  Crime TV Shows, International TV Shows, Spanis...   \n",
       "\n",
       "                    director  rating_num  \n",
       "0                Rob Burnett        18.0  \n",
       "1           Jesse V. Johnson        18.0  \n",
       "2            Manny Rodriguez        18.0  \n",
       "3  Jay Karas, Demetri Martin        18.0  \n",
       "4                  Jay Karas        18.0  \n",
       "5           Rik Reinholdtsen        18.0  \n",
       "6             Yılmaz Erdoğan        18.0  \n",
       "7     Raúl Campos, Jan Suter        18.0  \n",
       "8            Sermiyan Midyat        18.0  \n",
       "9                Felipe Cano        18.0  "
      ]
     },
     "execution_count": 22,
     "metadata": {},
     "output_type": "execute_result"
    }
   ],
   "source": [
    "# sauvgarder la data frame\n",
    "top10_cast.to_csv('top10_cast.csv')\n",
    "#  lire la data frame\n",
    "pd.read_csv('top10_cast.csv')"
   ]
  },
  {
   "cell_type": "markdown",
   "id": "192a66af-d8db-47f5-a93b-12f046b05f3c",
   "metadata": {},
   "source": [
    "<h3>4=></h3> <h4>Les cinq meilleures séries télévisées avec le plus grand nombre de saisons.</h4>\n",
    "<h5>Grouper par 'title', 'director', 'listed_in', 'rating', 'cast' et obtenir le nombre maximum de saisons :</h5>\n"
   ]
  },
  {
   "cell_type": "code",
   "execution_count": 23,
   "id": "446c16b2-88e0-4b63-a516-e47711f5f522",
   "metadata": {},
   "outputs": [
    {
     "name": "stdout",
     "output_type": "stream",
     "text": [
      "title                       director            listed_in                                                             cast                                                                                                                                                                                                                                                                                                                  \n",
      "46                          Serdar Akar         International TV Shows, TV Dramas, TV Mysteries                       Erdal Beşikçioğlu, Yasemin Allen, Melis Birkan, Saygın Soysal, Berkan Şal, Metin Belgin, Ayça Eren, Selin Uludoğan, Özay Fecht, Suna Yıldızoğlu                                                                                                                                                                           1\n",
      "7 (Seven)                   Nizar Shafi         TV Shows                                                              Rahman, Havish, Regina Cassandra, Nandita Swetha, Anisha Ambrose, Tridha Choudhury, Pujitha Ponnada, Aditi Arya                                                                                                                                                                                                           1\n",
      "A Perfect Day For Arsenide  Sunny Lau           Classic & Cult TV, Crime TV Shows, International TV Shows             Wilfred Lau, Hanna Chan, Terence Siufay, Chloe So, Martin Wong, Aaron Chow, So Wai Chuen, Aiden Hung, Sarika Choy                                                                                                                                                                                                         1\n",
      "A Queen Is Born             Carla Barros        International TV Shows, Reality TV                                    Gloria Groove, Alexia Twister                                                                                                                                                                                                                                                                                             1\n",
      "A.I.C.O.                    Kazuya Murata       Anime Series, International TV Shows                                  Haruka Shiraishi, Yusuke Kobayashi, Makoto Furukawa, Taishi Murata, Kaori Nazuka, M・A・O, Ryota Takeuchi, Ai Kayano, Toru Okawa, Takehito Koyasu, Atsuko Tanaka                                                                                                                                                            1\n",
      "                                                                                                                                                                                                                                                                                                                                                                                                                                               ..\n",
      "Velvet                      Carlos Sedes        International TV Shows, Romantic TV Shows, Spanish-Language TV Shows  Paula Echevarría, Miguel Ángel Silvestre, Aitana Sánchez-Gijón, Manuela Velasco, Manuela Vellés, Marta Hazas, Javier Rey, Maxi Iglesias, Cecilia Freire, Adrián Lastra, Miriam Giovanelli, Natalia Millán, José Sacristán, Ingrid Rubio, Peter Vives, Llorenç González, Ángela Molina, Pastora Vega                       4\n",
      "Watership Down              Noam Murro          British TV Shows, International TV Shows, TV Action & Adventure       James McAvoy, Nicholas Hoult, John Boyega, Ben Kingsley, Tom Wilkinson, Gemma Arterton, Peter Capaldi, Olivia Colman, Mackenzie Crook, Anne-Marie Duff, Taron Egerton, James Faulkner, Freddie Fox, Lee Ingleby, Miles Jupp, Daniel Kaluuya, Rory Kinnear, Craig Parkinson, Rosamund Pike, Daniel Rigby, Jason Watkins    1\n",
      "Word of Honor               Gary Sing           International TV Shows, TV Action & Adventure, TV Dramas              Zhang Zhehan, Gong Jun, Zhou Ye, Asher Ma, Sun Xilun, Chen Zihan, Rolling Wang, Zhang Yonggang, Li Daikun, Huang Youming, Damon Guo                                                                                                                                                                                       1\n",
      "World of Winx               Iginio Straffi      Kids' TV                                                              Haven Paschall, Alysha Deslorieux, Jessica Paquet, Eileen Stevens, Kate Bristol, Saskia Maarleveld, Brittany Pressley, Billy Bob Thompson, Marc Thompson, Suzy Myers, Jason Griffith, Samara Naeymi, Wayne Grayson, Alyson Leigh Rosenfeld, Abe Goldfarb, Lisa Flanagan                                                   2\n",
      "You                         Lee Toland Krieger  Crime TV Shows, Romantic TV Shows, TV Dramas                          Penn Badgley, Elizabeth Lail, Shay Mitchell, John Stamos, Luca Padovan, Zach Cherry                                                                                                                                                                                                                                       2\n",
      "Name: season_count, Length: 178, dtype: int32\n"
     ]
    }
   ],
   "source": [
    "# Filtrer pour ne garder que les séries télévisées\n",
    "df_tv_shows = df[df['type'] == 'TV Show'].copy()\n",
    "\n",
    "# Extraire le nombre de saisons de la colonne 'duration'\n",
    "df_tv_shows['season_count'] = df_tv_shows['duration'].str.extract('(\\d+)').astype(int)\n",
    "\n",
    "# Grouper par 'title', 'director', 'listed_in', 'rating', 'cast' et obtenir le nombre maximum de saisons\n",
    "grouped = df_tv_shows.groupby(['title', 'director', 'listed_in', 'cast'])['season_count'].max()\n",
    "\n",
    "print(grouped)\n",
    "\n",
    "# Trier par nombre de saisons et obtenir le top 5\n",
    "top5_tvShow = grouped.sort_values(ascending=False).head(5)"
   ]
  },
  {
   "cell_type": "code",
   "execution_count": 24,
   "id": "b17eed82-507b-45ff-845c-a8d6da2ff2e0",
   "metadata": {},
   "outputs": [
    {
     "data": {
      "text/html": [
       "<div>\n",
       "<style scoped>\n",
       "    .dataframe tbody tr th:only-of-type {\n",
       "        vertical-align: middle;\n",
       "    }\n",
       "\n",
       "    .dataframe tbody tr th {\n",
       "        vertical-align: top;\n",
       "    }\n",
       "\n",
       "    .dataframe thead th {\n",
       "        text-align: right;\n",
       "    }\n",
       "</style>\n",
       "<table border=\"1\" class=\"dataframe\">\n",
       "  <thead>\n",
       "    <tr style=\"text-align: right;\">\n",
       "      <th></th>\n",
       "      <th>title</th>\n",
       "      <th>director</th>\n",
       "      <th>listed_in</th>\n",
       "      <th>cast</th>\n",
       "      <th>season_count</th>\n",
       "    </tr>\n",
       "  </thead>\n",
       "  <tbody>\n",
       "    <tr>\n",
       "      <th>0</th>\n",
       "      <td>Supernatural</td>\n",
       "      <td>Phil Sgriccia</td>\n",
       "      <td>Classic &amp; Cult TV, TV Action &amp; Adventure, TV H...</td>\n",
       "      <td>Jared Padalecki, Jensen Ackles, Mark Sheppard,...</td>\n",
       "      <td>15</td>\n",
       "    </tr>\n",
       "    <tr>\n",
       "      <th>1</th>\n",
       "      <td>Naruto</td>\n",
       "      <td>Hayato Date</td>\n",
       "      <td>Anime Series, International TV Shows</td>\n",
       "      <td>Junko Takeuchi, Chie Nakamura, Noriaki Sugiyam...</td>\n",
       "      <td>9</td>\n",
       "    </tr>\n",
       "    <tr>\n",
       "      <th>2</th>\n",
       "      <td>Call the Midwife</td>\n",
       "      <td>Philippa Lowthorpe</td>\n",
       "      <td>British TV Shows, International TV Shows, TV D...</td>\n",
       "      <td>Vanessa Redgrave, Bryony Hannah, Helen George,...</td>\n",
       "      <td>9</td>\n",
       "    </tr>\n",
       "    <tr>\n",
       "      <th>3</th>\n",
       "      <td>The Great British Baking Show</td>\n",
       "      <td>Andy Devonshire</td>\n",
       "      <td>British TV Shows, Reality TV</td>\n",
       "      <td>Mel Giedroyc, Sue Perkins, Mary Berry, Paul Ho...</td>\n",
       "      <td>9</td>\n",
       "    </tr>\n",
       "    <tr>\n",
       "      <th>4</th>\n",
       "      <td>Arrow</td>\n",
       "      <td>James Bamford</td>\n",
       "      <td>Crime TV Shows, TV Action &amp; Adventure</td>\n",
       "      <td>Stephen Amell, Katie Cassidy, David Ramsey, Wi...</td>\n",
       "      <td>8</td>\n",
       "    </tr>\n",
       "  </tbody>\n",
       "</table>\n",
       "</div>"
      ],
      "text/plain": [
       "                           title            director  \\\n",
       "0                   Supernatural       Phil Sgriccia   \n",
       "1                         Naruto         Hayato Date   \n",
       "2               Call the Midwife  Philippa Lowthorpe   \n",
       "3  The Great British Baking Show     Andy Devonshire   \n",
       "4                          Arrow       James Bamford   \n",
       "\n",
       "                                           listed_in  \\\n",
       "0  Classic & Cult TV, TV Action & Adventure, TV H...   \n",
       "1               Anime Series, International TV Shows   \n",
       "2  British TV Shows, International TV Shows, TV D...   \n",
       "3                       British TV Shows, Reality TV   \n",
       "4              Crime TV Shows, TV Action & Adventure   \n",
       "\n",
       "                                                cast  season_count  \n",
       "0  Jared Padalecki, Jensen Ackles, Mark Sheppard,...            15  \n",
       "1  Junko Takeuchi, Chie Nakamura, Noriaki Sugiyam...             9  \n",
       "2  Vanessa Redgrave, Bryony Hannah, Helen George,...             9  \n",
       "3  Mel Giedroyc, Sue Perkins, Mary Berry, Paul Ho...             9  \n",
       "4  Stephen Amell, Katie Cassidy, David Ramsey, Wi...             8  "
      ]
     },
     "execution_count": 24,
     "metadata": {},
     "output_type": "execute_result"
    }
   ],
   "source": [
    "# sauvgarder la data frame\n",
    "top5_tvShow.to_csv('top5_tvShow.csv')\n",
    "#  lire la data frame\n",
    "pd.read_csv('top5_tvShow.csv')"
   ]
  },
  {
   "cell_type": "markdown",
   "id": "c9f329a8-e292-40bb-9160-c8c2b8443c59",
   "metadata": {},
   "source": [
    "<h3>5=></h3> <h4>Identifier des contenus similaires en faisant correspondre des caractéristiques textuelles.</h4>"
   ]
  },
  {
   "cell_type": "markdown",
   "id": "7b5a8969-40c9-4341-b810-df0beaefa96e",
   "metadata": {},
   "source": [
    "> sklearn.feature_extraction :\n",
    "Ce module de scikit-learn fournit des outils pour extraire des fonctionnalités à partir de données brutes. Il est principalement utilisé pour la transformation des données textuelles en vecteurs numériques exploitables par les algorithmes d'apprentissage automatique. Les principales fonctionnalités de ce module incluent :\n",
    "\n",
    "CountVectorizer : Convertit une collection de documents textuels en une matrice de comptage de jetons.\n",
    "\n",
    "TfidfVectorizer : Convertit une collection de documents textuels en une matrice de termes de fréquence-inverse de document (TF-IDF).\n",
    "\n",
    "HashingVectorizer : Convertit une collection de documents textuels en une matrice de caractéristiques en utilisant le hachage des caractéristiques.\n",
    "\n",
    "> sklearn.metrics :\n",
    "Ce module fournit des fonctions d'évaluation de modèle, telles que des mesures de précision, de rappel, de F1-score, etc. Ces fonctions sont utilisées pour évaluer la performance des modèles d'apprentissage automatique sur des données de test. Les principales fonctions de ce module incluent :\n",
    "\n",
    "accuracy_score : Calcule le taux de classification correcte par rapport à toutes les prédictions.\n",
    "\n",
    "precision_score : Calcule la proportion de vrais positifs parmi les vrais positifs et les faux positifs.\n",
    "\n",
    "recall_score : Calcule la proportion de vrais positifs parmi les vrais positifs et les faux négatifs.\n",
    "\n",
    "f1_score : Calcule la moyenne harmonique de la précision et du rappel.\n",
    "\n",
    "confusion_matrix : Calcule une matrice de confusion pour évaluer les performances d'un modèle de classification."
   ]
  },
  {
   "cell_type": "code",
   "execution_count": 25,
   "id": "4ddb236e-3175-4478-9057-5cca2e60cf05",
   "metadata": {},
   "outputs": [],
   "source": [
    "from sklearn.feature_extraction.text import TfidfVectorizer\n",
    "from sklearn.metrics.pairwise import linear_kernel"
   ]
  },
  {
   "cell_type": "code",
   "execution_count": 26,
   "id": "111b49ac-c058-4e90-92de-d10d050d378d",
   "metadata": {},
   "outputs": [],
   "source": [
    "# 'stop_words' est défini sur 'english', donc le vectoriseur ignorera les mots d'arrêt anglais courants\n",
    "tfidf = TfidfVectorizer(stop_words='english')\n",
    "\n",
    "# Cela est nécessaire car le vectoriseur ne peut pas traiter les valeurs NaN\n",
    "df['description'] = df['description'].fillna('')\n",
    "\n",
    "# Cela va apprendre le vocabulaire et transformer les descriptions en vecteurs TF-IDF\n",
    "tfidf_matrix = tfidf.fit_transform(df['description'])\n",
    "\n",
    "cosine_sim = linear_kernel(tfidf_matrix, tfidf_matrix)\n"
   ]
  },
  {
   "cell_type": "code",
   "execution_count": 27,
   "id": "83d58773-063a-4b0e-be3d-91f5259b75fc",
   "metadata": {},
   "outputs": [],
   "source": [
    "# Fonction pour obtenir les films les plus similaires et les scores de similarité\n",
    "def get_similar_movies(index, cosine_sim=cosine_sim):\n",
    "    sim_scores = list(enumerate(cosine_sim[index]))\n",
    "    sim_scores = sorted(sim_scores, key=lambda x: x[1], reverse=True)\n",
    "    sim_scores = sim_scores[1:11]  \n",
    "    movie_indices = [i[0] for i in sim_scores]\n",
    "    return df['title'].iloc[movie_indices], sim_scores"
   ]
  },
  {
   "cell_type": "code",
   "execution_count": 28,
   "id": "f26e7614-e866-4ca6-ac12-b1d56184e9a6",
   "metadata": {},
   "outputs": [
    {
     "data": {
      "image/png": "[encoded data removed]",
      "text/plain": [
       "<Figure size 1000x400 with 1 Axes>"
      ]
     },
     "metadata": {},
     "output_type": "display_data"
    }
   ],
   "source": [
    "# Obtenir les films similaires et les scores pour un film spécifique\n",
    "similar_movies, sim_scores = get_similar_movies(0)  \n",
    "\n",
    "# Visualiser les résultats\n",
    "plt.figure(figsize=(10,4))\n",
    "sns.barplot(x=similar_movies, y=[i[1] for i in sim_scores], hue=similar_movies, palette='viridis', legend=False)\n",
    "plt.xticks(rotation=45)\n",
    "plt.show()"
   ]
  },
  {
   "cell_type": "markdown",
   "id": "947fa452-7180-4a40-9748-dc7adf04f4ab",
   "metadata": {},
   "source": [
    "<h3>6=></3> \n",
    "<h4>Netflix se concentre-t-il davantage sur les séries télévisées que sur les films ces dernières années? </h4>"
   ]
  },
  {
   "cell_type": "code",
   "execution_count": 29,
   "id": "d5479295-330a-48ce-ae2e-8037e064921f",
   "metadata": {},
   "outputs": [
    {
     "data": {
      "image/png": "[encoded data removed]",
      "text/plain": [
       "<Figure size 800x600 with 1 Axes>"
      ]
     },
     "metadata": {},
     "output_type": "display_data"
    }
   ],
   "source": [
    "plt.figure(figsize=(8, 6))\n",
    "sns.countplot(x='type', data=df)\n",
    "plt.title('Comparaison du Nombre de Films et Séries Télévisées sur Netflix')\n",
    "plt.xlabel('Type de Contenu')\n",
    "plt.ylabel('Nombre')\n",
    "plt.show()"
   ]
  },
  {
   "cell_type": "markdown",
   "id": "3ba3ec4b-bd67-46cb-a2dc-99875fbaad38",
   "metadata": {},
   "source": [
    "<h5> ce diagrame en voi que le nombre de movie et plus grand que le nombre de TV Show alors les Movies sons realiser plus que le tv show. </h5>"
   ]
  },
  {
   "cell_type": "code",
   "execution_count": 30,
   "id": "9fce7147-719c-457d-85c4-f0d801496ff6",
   "metadata": {},
   "outputs": [],
   "source": [
    "# Filtrer pour ne garder que les séries télévisées\n",
    "df_tv_shows = df[df['type'] == 'TV Show'].copy()\n",
    "\n",
    "# Extraire le nombre de saisons de la colonne 'duration'\n",
    "df_tv_shows['season_count'] = df_tv_shows['duration'].str.extract('(\\d+)').astype(int)\n",
    "\n",
    "# Grouper par 'title', 'director', 'listed_in', 'rating', 'cast' et obtenir le nombre maximum de saisons\n",
    "grouped = df_tv_shows.groupby(['title', 'director', 'listed_in', 'cast'])['season_count'].max()\n",
    "\n",
    "# Trier par nombre de saisons et obtenir le top 5\n",
    "top5_tvShow = grouped.sort_values(ascending=False).head(5)\n"
   ]
  },
  {
   "cell_type": "code",
   "execution_count": 32,
   "id": "f458d6f4-09b2-4897-afd4-09f36f132340",
   "metadata": {},
   "outputs": [],
   "source": [
    "# Filtrer pour ne garder que les films\n",
    "df_movies = df[df['type'] == 'Movie'].copy()\n",
    "\n",
    "# Extraire la durée du film de la colonne 'duration'\n",
    "df_movies['duration'] = df_movies['duration'].str.extract('(\\d+)')\n",
    "\n",
    "# Remplacer les NaN par zéro\n",
    "df_movies['duration'] = df_movies['duration'].fillna(0)\n",
    "\n",
    "# Convertir en entier\n",
    "df_movies['duration'] = df_movies['duration'].astype(int)\n",
    "\n",
    "# Grouper par 'title', 'director', 'listed_in', 'rating', 'cast' et obtenir la durée maximale\n",
    "grouped_movies = df_movies.groupby(['title', 'director', 'listed_in', 'cast'])['duration'].max()\n",
    "\n",
    "# Trier par durée et obtenir le top 5\n",
    "top5_movies = grouped_movies.sort_values(ascending=False).head(5)\n"
   ]
  },
  {
   "cell_type": "code",
   "execution_count": 33,
   "id": "92eee475-986b-4f91-b6db-94e6096e9e84",
   "metadata": {},
   "outputs": [
    {
     "data": {
      "image/png": "[encoded data removed]",
      "text/plain": [
       "<Figure size 1500x500 with 2 Axes>"
      ]
     },
     "metadata": {},
     "output_type": "display_data"
    }
   ],
   "source": [
    "#  Réinitialiser l'index pour le top 5 des séries télévisées\n",
    "top5_tvShow = top5_tvShow.reset_index()\n",
    "\n",
    "# Réinitialiser l'index pour le top 5 des films\n",
    "top5_movies = top5_movies.reset_index()\n",
    "\n",
    "plt.figure(figsize=(15, 5))\n",
    "\n",
    "# Diagramme linéaire pour le top 5 des séries télévisées\n",
    "plt.subplot(1, 2, 1)\n",
    "sns.lineplot(x='title', y='season_count', data=top5_tvShow)\n",
    "plt.title('Top 5 Séries Télévisées par Nombre de Saisons')\n",
    "plt.xticks(rotation=45)\n",
    "\n",
    "# Diagramme linéaire pour le top 5 des films\n",
    "plt.subplot(1, 2, 2)\n",
    "sns.lineplot(x='title', y='duration', data=top5_movies)\n",
    "plt.title('Top 5 Films par Durée')\n",
    "plt.xticks(rotation=45)\n",
    "\n",
    "plt.tight_layout()\n",
    "plt.show()\n"
   ]
  },
  {
   "cell_type": "markdown",
   "id": "4697461f-caa7-4b3b-885b-83c62bdcb0c9",
   "metadata": {},
   "source": [
    "<h5>D'après l'analyse des diagrammes, il ressort que les films sont plus dominants que les séries télévisées dans plusieurs aspects tels que le nombre de titres, les directeurs, les catégories, les ratings et les artistes impliqués.</h5>"
   ]
  },
  {
   "cell_type": "markdown",
   "id": "655c8529",
   "metadata": {},
   "source": []
  }
 ],
 "metadata": {
  "kernelspec": {
   "display_name": "Python 3 (ipykernel)",
   "language": "python",
   "name": "python3"
  },
  "language_info": {
   "codemirror_mode": {
    "name": "ipython",
    "version": 3
   },
   "file_extension": ".py",
   "mimetype": "text/x-python",
   "name": "python",
   "nbconvert_exporter": "python",
   "pygments_lexer": "ipython3",
   "version": "3.11.5"
  }
 },
 "nbformat": 4,
 "nbformat_minor": 5
}
